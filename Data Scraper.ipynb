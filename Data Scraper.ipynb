{
 "cells": [
  {
   "cell_type": "code",
   "execution_count": 1,
   "id": "b3c78e31",
   "metadata": {},
   "outputs": [
    {
     "name": "stdout",
     "output_type": "stream",
     "text": [
      "Collecting selenium\n",
      "  Downloading selenium-4.12.0-py3-none-any.whl (9.4 MB)\n",
      "     ---------------------------------------- 9.4/9.4 MB 10.7 MB/s eta 0:00:00\n",
      "Collecting webdriver-manager\n",
      "  Downloading webdriver_manager-4.0.0-py2.py3-none-any.whl (27 kB)\n",
      "Collecting trio~=0.17\n",
      "  Downloading trio-0.22.2-py3-none-any.whl (400 kB)\n",
      "     ------------------------------------- 400.2/400.2 kB 12.6 MB/s eta 0:00:00\n",
      "Requirement already satisfied: certifi>=2021.10.8 in c:\\users\\maria\\appdata\\local\\anaconda3\\lib\\site-packages (from selenium) (2022.12.7)\n",
      "Collecting trio-websocket~=0.9\n",
      "  Downloading trio_websocket-0.10.3-py3-none-any.whl (17 kB)\n",
      "Requirement already satisfied: urllib3[socks]<3,>=1.26 in c:\\users\\maria\\appdata\\local\\anaconda3\\lib\\site-packages (from selenium) (1.26.14)\n",
      "Requirement already satisfied: packaging in c:\\users\\maria\\appdata\\local\\anaconda3\\lib\\site-packages (from webdriver-manager) (22.0)\n",
      "Requirement already satisfied: requests in c:\\users\\maria\\appdata\\local\\anaconda3\\lib\\site-packages (from webdriver-manager) (2.28.1)\n",
      "Collecting python-dotenv\n",
      "  Downloading python_dotenv-1.0.0-py3-none-any.whl (19 kB)\n",
      "Collecting exceptiongroup>=1.0.0rc9\n",
      "  Downloading exceptiongroup-1.1.3-py3-none-any.whl (14 kB)\n",
      "Requirement already satisfied: idna in c:\\users\\maria\\appdata\\local\\anaconda3\\lib\\site-packages (from trio~=0.17->selenium) (3.4)\n",
      "Requirement already satisfied: cffi>=1.14 in c:\\users\\maria\\appdata\\local\\anaconda3\\lib\\site-packages (from trio~=0.17->selenium) (1.15.1)\n",
      "Requirement already satisfied: sortedcontainers in c:\\users\\maria\\appdata\\local\\anaconda3\\lib\\site-packages (from trio~=0.17->selenium) (2.4.0)\n",
      "Collecting outcome\n",
      "  Downloading outcome-1.2.0-py2.py3-none-any.whl (9.7 kB)\n",
      "Requirement already satisfied: attrs>=20.1.0 in c:\\users\\maria\\appdata\\local\\anaconda3\\lib\\site-packages (from trio~=0.17->selenium) (22.1.0)\n",
      "Requirement already satisfied: sniffio in c:\\users\\maria\\appdata\\local\\anaconda3\\lib\\site-packages (from trio~=0.17->selenium) (1.2.0)\n",
      "Collecting wsproto>=0.14\n",
      "  Downloading wsproto-1.2.0-py3-none-any.whl (24 kB)\n",
      "Requirement already satisfied: PySocks!=1.5.7,<2.0,>=1.5.6 in c:\\users\\maria\\appdata\\local\\anaconda3\\lib\\site-packages (from urllib3[socks]<3,>=1.26->selenium) (1.7.1)\n",
      "Requirement already satisfied: charset-normalizer<3,>=2 in c:\\users\\maria\\appdata\\local\\anaconda3\\lib\\site-packages (from requests->webdriver-manager) (2.0.4)\n",
      "Requirement already satisfied: pycparser in c:\\users\\maria\\appdata\\local\\anaconda3\\lib\\site-packages (from cffi>=1.14->trio~=0.17->selenium) (2.21)\n",
      "Collecting h11<1,>=0.9.0\n",
      "  Downloading h11-0.14.0-py3-none-any.whl (58 kB)\n",
      "     ---------------------------------------- 58.3/58.3 kB ? eta 0:00:00\n",
      "Installing collected packages: python-dotenv, outcome, h11, exceptiongroup, wsproto, webdriver-manager, trio, trio-websocket, selenium\n",
      "Successfully installed exceptiongroup-1.1.3 h11-0.14.0 outcome-1.2.0 python-dotenv-1.0.0 selenium-4.12.0 trio-0.22.2 trio-websocket-0.10.3 webdriver-manager-4.0.0 wsproto-1.2.0\n",
      "Note: you may need to restart the kernel to use updated packages.\n"
     ]
    }
   ],
   "source": [
    "pip install selenium webdriver-manager"
   ]
  },
  {
   "cell_type": "code",
   "execution_count": 8,
   "id": "1d836524",
   "metadata": {},
   "outputs": [],
   "source": [
    "from selenium.webdriver.common.by import By"
   ]
  },
  {
   "cell_type": "code",
   "execution_count": 27,
   "id": "422b6f39",
   "metadata": {},
   "outputs": [
    {
     "name": "stdout",
     "output_type": "stream",
     "text": [
      "[<selenium.webdriver.remote.webelement.WebElement (session=\"4748c9cf6ca9649eeeff50739509bc74\", element=\"6B9EAD71B7FBAB2471352259E0F4508D_element_12\")>, <selenium.webdriver.remote.webelement.WebElement (session=\"4748c9cf6ca9649eeeff50739509bc74\", element=\"6B9EAD71B7FBAB2471352259E0F4508D_element_13\")>, <selenium.webdriver.remote.webelement.WebElement (session=\"4748c9cf6ca9649eeeff50739509bc74\", element=\"6B9EAD71B7FBAB2471352259E0F4508D_element_14\")>]\n"
     ]
    }
   ],
   "source": [
    "from selenium import webdriver\n",
    "from selenium.webdriver.chrome.service import Service as ChromeService\n",
    "from webdriver_manager.chrome import ChromeDriverManager\n",
    "from selenium.webdriver.chrome.options import Options\n",
    "\n",
    "# enable the headless mode\n",
    "options = Options()\n",
    "options.add_argument('--headless=new')\n",
    "\n",
    "# initialize a web driver to control Chrome\n",
    "driver = webdriver.Chrome(\n",
    "    service=ChromeService(ChromeDriverManager().install()),\n",
    "    options=options\n",
    ")\n",
    "# maxime the controlled browser window\n",
    "driver.fullscreen_window()\n",
    "\n",
    "# scraping logic...\n",
    "url =\"https://www.reddit.com/r/KotakuInAction/\"\n",
    "driver.get(url)\n",
    "\n",
    "#.....\n",
    "posts=[]\n",
    "\n",
    "post_html_elements = driver.find_elements(By.CSS_SELECTOR, '[post-type=\"text\"]')\n",
    "print(post_html_elements)\n",
    "\n",
    "\n",
    "\n",
    "\n",
    "\n",
    "# close the browser and free up the Selenium resources\n",
    "driver.quit()"
   ]
  },
  {
   "cell_type": "code",
   "execution_count": 16,
   "id": "abc643f9",
   "metadata": {},
   "outputs": [
    {
     "ename": "IndexError",
     "evalue": "list index out of range",
     "output_type": "error",
     "traceback": [
      "\u001b[1;31m---------------------------------------------------------------------------\u001b[0m",
      "\u001b[1;31mIndexError\u001b[0m                                Traceback (most recent call last)",
      "Cell \u001b[1;32mIn[16], line 1\u001b[0m\n\u001b[1;32m----> 1\u001b[0m \u001b[38;5;28mprint\u001b[39m(\u001b[43mposts\u001b[49m\u001b[43m[\u001b[49m\u001b[38;5;241;43m1\u001b[39;49m\u001b[43m]\u001b[49m)\n",
      "\u001b[1;31mIndexError\u001b[0m: list index out of range"
     ]
    }
   ],
   "source": [
    "for post_html_element in post_html_elements:\n",
    "    post = {}\n",
    "    upvotes = post_html_element \\\n",
    "    .find_element(By.CSS_SELECTOR, '[score]') \\\n",
    "    .find_element(By.XPATH, \"following-sibling::*[1]\") \\\n",
    "    .get_attribute('innerText')\n",
    "    author = post_html_element \\\n",
    "    .find_element(By.CSS_SELECTOR, '[data-testid=\"post_author_link\"]') \\\n",
    "    .text\n",
    "    title = post_html_element \\\n",
    "    .find_element(By.TAG_NAME, 'h3') \\\n",
    "    .text\n",
    "    try:\n",
    "        outbound_link = post_html_element \\\n",
    "            .find_element(By.CSS_SELECTOR, '[data-testid=\"outbound-link\"]') \\\n",
    "            .get_attribute('href')\n",
    "    except NoSuchElementException:\n",
    "        outbound_link = None\n",
    "    comments = post_html_element \\\n",
    "        .find_element(By.CSS_SELECTOR, '[data-click-id=\"comments\"]') \\\n",
    "        .get_attribute('innerText') \\\n",
    "        .replace(' Comments', '')\n",
    "    \n",
    "    # populate the dictionary with the retrieved data\n",
    "    post['upvotes'] = upvotes\n",
    "    post['title'] = title\n",
    "    post['outbound_link'] = outbound_link\n",
    "    post['comments'] = comments\n",
    "\n",
    "    # to avoid adding ad posts \n",
    "    # to the list of scraped posts\n",
    "    if title:\n",
    "        posts.append(post)"
   ]
  },
  {
   "cell_type": "code",
   "execution_count": null,
   "id": "abeb39b1",
   "metadata": {},
   "outputs": [],
   "source": []
  }
 ],
 "metadata": {
  "kernelspec": {
   "display_name": "Python 3 (ipykernel)",
   "language": "python",
   "name": "python3"
  },
  "language_info": {
   "codemirror_mode": {
    "name": "ipython",
    "version": 3
   },
   "file_extension": ".py",
   "mimetype": "text/x-python",
   "name": "python",
   "nbconvert_exporter": "python",
   "pygments_lexer": "ipython3",
   "version": "3.10.9"
  }
 },
 "nbformat": 4,
 "nbformat_minor": 5
}
